{
 "cells": [
  {
   "cell_type": "markdown",
   "metadata": {},
   "source": [
    "# ISLR Chapter 5 - End of Chapter Applied exercises code portion solutions¶\n",
    "\n",
    "Exercises from: \"An Introduction to Statistical Learning with Applications in R\" (Springer, 2013) by Gareth James, Daniela Witten, Trevor Hastie and Robert Tibshirani\n",
    "\n",
    "Data: http://faculty.marshall.usc.edu/gareth-james/ISL/data.html\n",
    "\n",
    "Code Solutions by Arthur Avila"
   ]
  },
  {
   "cell_type": "markdown",
   "metadata": {},
   "source": [
    "### 5. In Chapter 4, we used logistic regression to predict the probability of default using income and balance on the `Default` data set. We will now estimate the test error of this logistic regression model using the validation set approach. Do not forget to set a random seed before beginning your analysis.\n",
    "\n",
    "#### (a) Fit a logistic regression model that uses income and balance to predict default ."
   ]
  },
  {
   "cell_type": "code",
   "execution_count": 1,
   "metadata": {},
   "outputs": [
    {
     "name": "stderr",
     "output_type": "stream",
     "text": [
      "Loading required package: ISLR\n"
     ]
    },
    {
     "name": "stdout",
     "output_type": "stream",
     "text": [
      "'data.frame':\t10000 obs. of  4 variables:\n",
      " $ default: Factor w/ 2 levels \"No\",\"Yes\": 1 1 1 1 1 1 1 1 1 1 ...\n",
      " $ student: Factor w/ 2 levels \"No\",\"Yes\": 1 2 1 1 1 2 1 2 1 1 ...\n",
      " $ balance: num  730 817 1074 529 786 ...\n",
      " $ income : num  44362 12106 31767 35704 38463 ...\n"
     ]
    }
   ],
   "source": [
    "require(ISLR)\n",
    "str(Default)"
   ]
  },
  {
   "cell_type": "code",
   "execution_count": 2,
   "metadata": {},
   "outputs": [
    {
     "data": {
      "text/plain": [
       "\n",
       "Call:\n",
       "glm(formula = default ~ balance + income, family = binomial, \n",
       "    data = Default)\n",
       "\n",
       "Deviance Residuals: \n",
       "    Min       1Q   Median       3Q      Max  \n",
       "-2.4725  -0.1444  -0.0574  -0.0211   3.7245  \n",
       "\n",
       "Coefficients:\n",
       "              Estimate Std. Error z value Pr(>|z|)    \n",
       "(Intercept) -1.154e+01  4.348e-01 -26.545  < 2e-16 ***\n",
       "balance      5.647e-03  2.274e-04  24.836  < 2e-16 ***\n",
       "income       2.081e-05  4.985e-06   4.174 2.99e-05 ***\n",
       "---\n",
       "Signif. codes:  0 ‘***’ 0.001 ‘**’ 0.01 ‘*’ 0.05 ‘.’ 0.1 ‘ ’ 1\n",
       "\n",
       "(Dispersion parameter for binomial family taken to be 1)\n",
       "\n",
       "    Null deviance: 2920.6  on 9999  degrees of freedom\n",
       "Residual deviance: 1579.0  on 9997  degrees of freedom\n",
       "AIC: 1585\n",
       "\n",
       "Number of Fisher Scoring iterations: 8\n"
      ]
     },
     "metadata": {},
     "output_type": "display_data"
    }
   ],
   "source": [
    "model = glm(default~balance+income, data=Default, family=binomial)\n",
    "summary(model)"
   ]
  },
  {
   "cell_type": "markdown",
   "metadata": {},
   "source": [
    "### (b) Using the validation set approach, estimate the test error of this model. In order to do this, you must perform the following steps:  \n",
    "\n",
    "  i. Split the sample set into a training set and a validation set.  \n",
    "\n",
    "  ii. Fit a multiple logistic regression model using only the training observations.  \n",
    "  \n",
    "  iii. Obtain a prediction of default status for each individual in the validation set by computing the posterior probability of default for that individual, and classifying the individual to the default category if the posterior probability is greater than 0.5.  \n",
    "  \n",
    "  iv. Compute the validation set error, which is the fraction of the observations in the validation set that are misclassified."
   ]
  },
  {
   "cell_type": "code",
   "execution_count": 3,
   "metadata": {},
   "outputs": [
    {
     "name": "stdout",
     "output_type": "stream",
     "text": [
      "         \n",
      "predicted   No  Yes\n",
      "      No  2417   60\n",
      "      Yes    3   20\n",
      "\n",
      "Error rate 0.0252"
     ]
    }
   ],
   "source": [
    "set.seed(42)\n",
    "train = sample(1:10000,7500)\n",
    "model1 = glm(default~balance+income, data=Default, family=binomial, subset=train)\n",
    "predicted = ifelse(predict(model1, Default[-train,])>.5,\"Yes\",\"No\")\n",
    "print(confusion <- table(predicted, Default[-train,'default']))\n",
    "cat('\\nError rate', error <- (confusion[1,2]+confusion[2,1])/sum(confusion))\n"
   ]
  },
  {
   "cell_type": "markdown",
   "metadata": {},
   "source": [
    "### (c) Repeat the process in (b) three times, using three different splits of the observations into a training set and a validation set. Comment on the results obtained."
   ]
  },
  {
   "cell_type": "code",
   "execution_count": 4,
   "metadata": {},
   "outputs": [
    {
     "name": "stdout",
     "output_type": "stream",
     "text": [
      "         \n",
      "predicted   No  Yes\n",
      "      No  2419   61\n",
      "      Yes    6   14\n",
      "\n",
      "Error rate 0.0268 \n",
      "         \n",
      "predicted   No  Yes\n",
      "      No  2423   55\n",
      "      Yes    7   15\n",
      "\n",
      "Error rate 0.0248 \n",
      "         \n",
      "predicted   No  Yes\n",
      "      No  2406   63\n",
      "      Yes    6   25\n",
      "\n",
      "Error rate 0.0276 \n"
     ]
    }
   ],
   "source": [
    "reportf <- function(seed){\n",
    "    set.seed(seed)\n",
    "    train = sample(1:10000,7500)\n",
    "    model1 = glm(default~balance+income, data=Default, family=binomial, subset=train)\n",
    "    predicted = ifelse(predict(model1, Default[-train,])>.5,\"Yes\",\"No\")\n",
    "    print(confusion <- table(predicted, Default[-train,'default']))\n",
    "    cat('\\nError rate', error <- (confusion[1,2]+confusion[2,1])/sum(confusion),'\\n')\n",
    "}\n",
    "for (seed in c(2001, 36, 111111)) reportf(seed)"
   ]
  },
  {
   "cell_type": "markdown",
   "metadata": {},
   "source": [
    "### (d) Now consider a logistic regression model that predicts the probability of default using `income`, `balance`, and a dummy variable for `student`. Estimate the test error for this model using the validation set approach. Comment on whether or not including a dummy variable for student leads to a reduction in the test error rate."
   ]
  },
  {
   "cell_type": "code",
   "execution_count": 5,
   "metadata": {},
   "outputs": [
    {
     "name": "stdout",
     "output_type": "stream",
     "text": [
      "         \n",
      "predicted   No  Yes\n",
      "      No  2417   59\n",
      "      Yes    3   21\n",
      "\n",
      "Error rate 0.0248"
     ]
    }
   ],
   "source": [
    "set.seed(42)\n",
    "train = sample(1:10000,7500)\n",
    "model1 = glm(default~balance+income+student, data=Default, family=binomial, subset=train)\n",
    "predicted = ifelse(predict(model1, Default[-train,])>.5,\"Yes\",\"No\")\n",
    "print(confusion <- table(predicted, Default[-train,'default']))\n",
    "cat('\\nError rate', error <- (confusion[1,2]+confusion[2,1])/sum(confusion))"
   ]
  },
  {
   "cell_type": "markdown",
   "metadata": {},
   "source": [
    "### 6. We continue to consider the use of a logistic regression model to predict the probability of default using `income` and `balance` on the `Default` data set. In particular, we will now compute estimates for the standard errors of the `income` and `balance` logistic regression coefficients in two different ways: (1) using the bootstrap, and (2) using the standard formula for computing the standard errors in the `glm()` function. Do not forget to set a random seed before beginning your analysis.\n",
    "\n",
    "#### (a) Using the `summary()` and `glm()` functions, determine the estimated standard errors for the coefficients associated with `income` and `balance` in a multiple logistic regression model that uses both predictors."
   ]
  },
  {
   "cell_type": "code",
   "execution_count": 6,
   "metadata": {},
   "outputs": [
    {
     "data": {
      "text/plain": [
       "\n",
       "Call:\n",
       "glm(formula = default ~ income + balance, family = binomial, \n",
       "    data = Default)\n",
       "\n",
       "Deviance Residuals: \n",
       "    Min       1Q   Median       3Q      Max  \n",
       "-2.4725  -0.1444  -0.0574  -0.0211   3.7245  \n",
       "\n",
       "Coefficients:\n",
       "              Estimate Std. Error z value Pr(>|z|)    \n",
       "(Intercept) -1.154e+01  4.348e-01 -26.545  < 2e-16 ***\n",
       "income       2.081e-05  4.985e-06   4.174 2.99e-05 ***\n",
       "balance      5.647e-03  2.274e-04  24.836  < 2e-16 ***\n",
       "---\n",
       "Signif. codes:  0 ‘***’ 0.001 ‘**’ 0.01 ‘*’ 0.05 ‘.’ 0.1 ‘ ’ 1\n",
       "\n",
       "(Dispersion parameter for binomial family taken to be 1)\n",
       "\n",
       "    Null deviance: 2920.6  on 9999  degrees of freedom\n",
       "Residual deviance: 1579.0  on 9997  degrees of freedom\n",
       "AIC: 1585\n",
       "\n",
       "Number of Fisher Scoring iterations: 8\n"
      ]
     },
     "metadata": {},
     "output_type": "display_data"
    }
   ],
   "source": [
    "set.seed(35)\n",
    "train = sample(1:10000, 7500)\n",
    "model = glm(default~income+balance, data=Default, family=binomial)\n",
    "summary(model)"
   ]
  },
  {
   "cell_type": "markdown",
   "metadata": {},
   "source": [
    "### (b) Write a function, `boot.fn()`, that takes as input the `Default` data set as well as an index of the observations, and that outputs the coefficient estimates for income and balance in the multiple logistic regression model."
   ]
  },
  {
   "cell_type": "code",
   "execution_count": 7,
   "metadata": {},
   "outputs": [
    {
     "data": {
      "text/html": [
       "<dl class=dl-horizontal>\n",
       "\t<dt>income</dt>\n",
       "\t\t<dd>1.8969555773621e-05</dd>\n",
       "\t<dt>balance</dt>\n",
       "\t\t<dd>0.00557571416171226</dd>\n",
       "</dl>\n"
      ],
      "text/latex": [
       "\\begin{description*}\n",
       "\\item[income] 1.8969555773621e-05\n",
       "\\item[balance] 0.00557571416171226\n",
       "\\end{description*}\n"
      ],
      "text/markdown": [
       "income\n",
       ":   1.8969555773621e-05balance\n",
       ":   0.00557571416171226\n",
       "\n"
      ],
      "text/plain": [
       "      income      balance \n",
       "1.896956e-05 5.575714e-03 "
      ]
     },
     "metadata": {},
     "output_type": "display_data"
    }
   ],
   "source": [
    "boot.fn <- function(data=Default, index){\n",
    "    model = glm(default~income+balance, data=data[index,], family=binomial)\n",
    "    return(coef(model)[-1])\n",
    "}\n",
    "boot.fn(Default, train)"
   ]
  },
  {
   "cell_type": "markdown",
   "metadata": {},
   "source": [
    "### (c) Use the `boot()` function together with your `boot.fn()` function to estimate the standard errors of the logistic regression coefficients for `income` and `balance`."
   ]
  },
  {
   "cell_type": "code",
   "execution_count": 8,
   "metadata": {},
   "outputs": [
    {
     "name": "stderr",
     "output_type": "stream",
     "text": [
      "Loading required package: boot\n"
     ]
    },
    {
     "data": {
      "text/plain": [
       "\n",
       "ORDINARY NONPARAMETRIC BOOTSTRAP\n",
       "\n",
       "\n",
       "Call:\n",
       "boot(data = Default, statistic = boot.fn, R = 1000)\n",
       "\n",
       "\n",
       "Bootstrap Statistics :\n",
       "        original       bias     std. error\n",
       "t1* 2.080898e-05 1.582518e-07 4.729534e-06\n",
       "t2* 5.647103e-03 1.296980e-05 2.217214e-04"
      ]
     },
     "metadata": {},
     "output_type": "display_data"
    }
   ],
   "source": [
    "require(boot)\n",
    "set.seed(123)\n",
    "boot(Default,boot.fn,1000)"
   ]
  },
  {
   "cell_type": "markdown",
   "metadata": {},
   "source": [
    "#### (d) Comment on the estimated standard errors obtained using the `glm()` function and using your bootstrap function."
   ]
  },
  {
   "cell_type": "markdown",
   "metadata": {},
   "source": [
    "### 7. In Sections 5.3.2 and 5.3.3, we saw that the `cv.glm()` function can be used in order to compute the LOOCV test error estimate. Alternatively, one could compute those quantities using just the `glm()` and `predict.glm()` functions, and a for loop. You will now take this approach in order to compute the LOOCV error for a simple logistic regression model on the `Weekly` data set. Recall that in the context of classification problems, the LOOCV error is given in (5.4).\n",
    "\n",
    "#### (a) Fit a logistic regression model that predicts `Direction` using `Lag1` and `Lag2`."
   ]
  },
  {
   "cell_type": "code",
   "execution_count": 9,
   "metadata": {},
   "outputs": [
    {
     "data": {
      "text/plain": [
       "\n",
       "Call:\n",
       "glm(formula = Direction ~ Lag1 + Lag2, family = binomial, data = Weekly)\n",
       "\n",
       "Deviance Residuals: \n",
       "   Min      1Q  Median      3Q     Max  \n",
       "-1.623  -1.261   1.001   1.083   1.506  \n",
       "\n",
       "Coefficients:\n",
       "            Estimate Std. Error z value Pr(>|z|)    \n",
       "(Intercept)  0.22122    0.06147   3.599 0.000319 ***\n",
       "Lag1        -0.03872    0.02622  -1.477 0.139672    \n",
       "Lag2         0.06025    0.02655   2.270 0.023232 *  \n",
       "---\n",
       "Signif. codes:  0 ‘***’ 0.001 ‘**’ 0.01 ‘*’ 0.05 ‘.’ 0.1 ‘ ’ 1\n",
       "\n",
       "(Dispersion parameter for binomial family taken to be 1)\n",
       "\n",
       "    Null deviance: 1496.2  on 1088  degrees of freedom\n",
       "Residual deviance: 1488.2  on 1086  degrees of freedom\n",
       "AIC: 1494.2\n",
       "\n",
       "Number of Fisher Scoring iterations: 4\n"
      ]
     },
     "metadata": {},
     "output_type": "display_data"
    }
   ],
   "source": [
    "model = glm(Direction~Lag1+Lag2, binomial, Weekly)\n",
    "summary(model)"
   ]
  },
  {
   "cell_type": "markdown",
   "metadata": {},
   "source": [
    "#### (b) Fit a logistic regression model that predicts `Direction` using `Lag1` and `Lag2` *using all but the first observation.*"
   ]
  },
  {
   "cell_type": "code",
   "execution_count": 10,
   "metadata": {},
   "outputs": [
    {
     "data": {
      "text/plain": [
       "\n",
       "Call:\n",
       "glm(formula = Direction ~ Lag1 + Lag2, family = binomial, data = Weekly, \n",
       "    subset = -1)\n",
       "\n",
       "Deviance Residuals: \n",
       "    Min       1Q   Median       3Q      Max  \n",
       "-1.6258  -1.2617   0.9999   1.0819   1.5071  \n",
       "\n",
       "Coefficients:\n",
       "            Estimate Std. Error z value Pr(>|z|)    \n",
       "(Intercept)  0.22324    0.06150   3.630 0.000283 ***\n",
       "Lag1        -0.03843    0.02622  -1.466 0.142683    \n",
       "Lag2         0.06085    0.02656   2.291 0.021971 *  \n",
       "---\n",
       "Signif. codes:  0 ‘***’ 0.001 ‘**’ 0.01 ‘*’ 0.05 ‘.’ 0.1 ‘ ’ 1\n",
       "\n",
       "(Dispersion parameter for binomial family taken to be 1)\n",
       "\n",
       "    Null deviance: 1494.6  on 1087  degrees of freedom\n",
       "Residual deviance: 1486.5  on 1085  degrees of freedom\n",
       "AIC: 1492.5\n",
       "\n",
       "Number of Fisher Scoring iterations: 4\n"
      ]
     },
     "metadata": {},
     "output_type": "display_data"
    }
   ],
   "source": [
    "model1 = glm(Direction~Lag1+Lag2, binomial, Weekly, subset=-1)\n",
    "summary(model1)"
   ]
  },
  {
   "cell_type": "markdown",
   "metadata": {},
   "source": [
    "#### (c) Use the model from (b) to predict the direction of the first observation. You can do this by predicting that the first observation will go up if $P(\\mathtt{Direction}=\\text{\"Up\"} | \\mathtt{Lag1} , \\mathtt{Lag2})> 0.5$. Was this observation correctly classified?"
   ]
  },
  {
   "cell_type": "code",
   "execution_count": 11,
   "metadata": {},
   "outputs": [
    {
     "data": {
      "text/html": [
       "<strong>1:</strong> 0.287534049475059"
      ],
      "text/latex": [
       "\\textbf{1:} 0.287534049475059"
      ],
      "text/markdown": [
       "**1:** 0.287534049475059"
      ],
      "text/plain": [
       "       1 \n",
       "0.287534 "
      ]
     },
     "metadata": {},
     "output_type": "display_data"
    },
    {
     "data": {
      "text/html": [
       "<strong>1:</strong> 'Down'"
      ],
      "text/latex": [
       "\\textbf{1:} 'Down'"
      ],
      "text/markdown": [
       "**1:** 'Down'"
      ],
      "text/plain": [
       "     1 \n",
       "\"Down\" "
      ]
     },
     "metadata": {},
     "output_type": "display_data"
    },
    {
     "data": {
      "text/html": [
       "Down\n",
       "<details>\n",
       "\t<summary style=display:list-item;cursor:pointer>\n",
       "\t\t<strong>Levels</strong>:\n",
       "\t</summary>\n",
       "\t<ol class=list-inline>\n",
       "\t\t<li>'Down'</li>\n",
       "\t\t<li>'Up'</li>\n",
       "\t</ol>\n",
       "</details>"
      ],
      "text/latex": [
       "Down\n",
       "\\emph{Levels}: \\begin{enumerate*}\n",
       "\\item 'Down'\n",
       "\\item 'Up'\n",
       "\\end{enumerate*}\n"
      ],
      "text/markdown": [
       "Down\n",
       "**Levels**: 1. 'Down'\n",
       "2. 'Up'\n",
       "\n",
       "\n"
      ],
      "text/plain": [
       "[1] Down\n",
       "Levels: Down Up"
      ]
     },
     "metadata": {},
     "output_type": "display_data"
    }
   ],
   "source": [
    "predict(model1, Weekly[1,])\n",
    "ifelse(predict(model1, Weekly[1,])>.5,'Up','Down')\n",
    "Weekly[1,'Direction']"
   ]
  },
  {
   "cell_type": "markdown",
   "metadata": {},
   "source": [
    "#### (d) Write a for loop from $i = 1$ to $i = n$, where $n$ is the number of observations in the data set, that performs each of the following steps:\n",
    "\n",
    "  i. Fit a logistic regression model using all but the ith obser vation to predict `Direction` using `Lag1` and `Lag2`.  \n",
    "\n",
    "  ii. Compute the posterior probability of the market moving up for the $i$th observation.  \n",
    "\n",
    "  iii. Use the posterior probability for the $i$th observation in order to predict whether or not the market moves up.  \n",
    "\n",
    "  iv. Determine whether or not an error was made in predicting the direction for the $i$th observation. If an error was made, then indicate this as a 1, and otherwise indicate it as a 0."
   ]
  },
  {
   "cell_type": "code",
   "execution_count": 12,
   "metadata": {},
   "outputs": [
    {
     "data": {
      "text/html": [
       "FALSE"
      ],
      "text/latex": [
       "FALSE"
      ],
      "text/markdown": [
       "FALSE"
      ],
      "text/plain": [
       "[1] FALSE"
      ]
     },
     "metadata": {},
     "output_type": "display_data"
    }
   ],
   "source": [
    "loopf <- function(i){\n",
    "    model = glm(Direction~Lag1+Lag2, binomial, Weekly, subset=-i)\n",
    "    pred = ifelse(predict(model, Weekly[i,])>.5, 'Up', 'Down')\n",
    "    return(pred!=Weekly[i,'Direction'])\n",
    "}\n",
    "loopf(1)\n",
    "error = sapply(1:nrow(Weekly),loopf)"
   ]
  },
  {
   "cell_type": "markdown",
   "metadata": {},
   "source": [
    "#### (e) Take the average of the $n$ numbers obtained in (d)iv in order to obtain the LOOCV estimate for the test error. Comment on the results."
   ]
  },
  {
   "cell_type": "code",
   "execution_count": 13,
   "metadata": {},
   "outputs": [
    {
     "name": "stdout",
     "output_type": "stream",
     "text": [
      "Error rate: 0.5454545"
     ]
    }
   ],
   "source": [
    "cat('Error rate:',mean(error))"
   ]
  },
  {
   "cell_type": "markdown",
   "metadata": {},
   "source": [
    "### 8. We will now perform cross-validation on a simulated data set.\n",
    "\n",
    "#### (a) Generate a simulated data set as follows:\n",
    "```\n",
    "> set.seed(1)\n",
    "> x = rnorm(100)\n",
    "> y = x - 2*x^2 + rnorm(100)\n",
    "```\n",
    "#### In this data set, what is $n$ and what is $p$? Write out the model used to generate the data in equation form."
   ]
  },
  {
   "cell_type": "code",
   "execution_count": 14,
   "metadata": {},
   "outputs": [],
   "source": [
    "set.seed(1)\n",
    "x = rnorm(100, 0, 1)\n",
    "y = x-2*x^2+rnorm(100, 0, 1)"
   ]
  },
  {
   "cell_type": "markdown",
   "metadata": {},
   "source": [
    "$n = 100$,  $p = 2$, $X \\sim N(0,1)$\n",
    "$$\n",
    "Y(X=x) = x-2x^2 + \\varepsilon\n",
    "$$\n"
   ]
  },
  {
   "cell_type": "markdown",
   "metadata": {},
   "source": [
    "### (b) Create a scatterplot of $X$ against $Y$. Comment on what you find."
   ]
  },
  {
   "cell_type": "code",
   "execution_count": 15,
   "metadata": {},
   "outputs": [
    {
     "data": {
      "image/png": "[encoded data removed]",
      "text/plain": [
       "plot without title"
      ]
     },
     "metadata": {},
     "output_type": "display_data"
    }
   ],
   "source": [
    "plot(y~x)"
   ]
  },
  {
   "cell_type": "markdown",
   "metadata": {},
   "source": [
    "#### (c) Set a random seed, and then compute the LOOCV errors that result from fitting the following four models using least squares:\n",
    "\n",
    "  i. $Y = \\beta_0 + \\beta_1 X + \\varepsilon$\n",
    "\n",
    "  ii. $Y = \\beta_0 + \\beta_1 X + \\beta_2X^2 + \\varepsilon$  \n",
    "\n",
    "  iii. $Y = \\beta_0 + \\beta_1 X + \\beta_2X^2 + \\beta_3X^3 + \\varepsilon$  \n",
    "  \n",
    "  iv. $Y = \\beta_0 + \\beta_1 X + \\beta_2X^2 + \\beta_3X^3 + \\beta_4X^4 + \\varepsilon$.  \n",
    "\n",
    "#### Note you may find it helpful to use the `data.frame()` function to create a single data set containing both `X` and `Y`."
   ]
  },
  {
   "cell_type": "code",
   "execution_count": 16,
   "metadata": {},
   "outputs": [
    {
     "data": {
      "text/html": [
       "<ol class=list-inline>\n",
       "\t<li>7.28816160667281</li>\n",
       "\t<li>0.937423637615552</li>\n",
       "\t<li>0.95662183010894</li>\n",
       "\t<li>0.953904892744804</li>\n",
       "</ol>\n"
      ],
      "text/latex": [
       "\\begin{enumerate*}\n",
       "\\item 7.28816160667281\n",
       "\\item 0.937423637615552\n",
       "\\item 0.95662183010894\n",
       "\\item 0.953904892744804\n",
       "\\end{enumerate*}\n"
      ],
      "text/markdown": [
       "1. 7.28816160667281\n",
       "2. 0.937423637615552\n",
       "3. 0.95662183010894\n",
       "4. 0.953904892744804\n",
       "\n",
       "\n"
      ],
      "text/plain": [
       "[1] 7.2881616 0.9374236 0.9566218 0.9539049"
      ]
     },
     "metadata": {},
     "output_type": "display_data"
    }
   ],
   "source": [
    "# long version\n",
    "set.seed(1)\n",
    "df = data.frame(y,x)\n",
    "loopf = function(i){\n",
    "    model = lm(y~poly(x,n),df,subset=-i)\n",
    "    pred = predict(model, df[i,], type='response')\n",
    "    SE = (df[i,'y'] - pred)^2\n",
    "    return(SE)\n",
    "}\n",
    "CV=c(0,0,0,0)\n",
    "for (n in 1:4){\n",
    "    CV[n] = mean(sapply(1:100, loopf))\n",
    "}\n",
    "CV"
   ]
  },
  {
   "cell_type": "code",
   "execution_count": 17,
   "metadata": {},
   "outputs": [
    {
     "data": {
      "text/html": [
       "<ol class=list-inline>\n",
       "\t<li>7.28816160667281</li>\n",
       "\t<li>0.937423637615552</li>\n",
       "\t<li>0.95662183010894</li>\n",
       "\t<li>0.953904892744804</li>\n",
       "</ol>\n"
      ],
      "text/latex": [
       "\\begin{enumerate*}\n",
       "\\item 7.28816160667281\n",
       "\\item 0.937423637615552\n",
       "\\item 0.95662183010894\n",
       "\\item 0.953904892744804\n",
       "\\end{enumerate*}\n"
      ],
      "text/markdown": [
       "1. 7.28816160667281\n",
       "2. 0.937423637615552\n",
       "3. 0.95662183010894\n",
       "4. 0.953904892744804\n",
       "\n",
       "\n"
      ],
      "text/plain": [
       "[1] 7.2881616 0.9374236 0.9566218 0.9539049"
      ]
     },
     "metadata": {},
     "output_type": "display_data"
    }
   ],
   "source": [
    "# short vesion using Hat matrix diagonal\n",
    "set.seed(1)\n",
    "myCV = function(ns=1:4){\n",
    "    sapply(ns, function(n){\n",
    "        model = lm(y~poly(x,n))\n",
    "        return(mean(((y-fitted(model))/(1-hatvalues(model)))^2))\n",
    "        })}\n",
    "(CV = myCV())\n"
   ]
  },
  {
   "cell_type": "markdown",
   "metadata": {},
   "source": [
    "#### (d) Repeat (c) using another random seed, and report your results. Are your results the same as what you got in (c)? Why?"
   ]
  },
  {
   "cell_type": "code",
   "execution_count": 18,
   "metadata": {},
   "outputs": [
    {
     "name": "stdout",
     "output_type": "stream",
     "text": [
      "Seed 1 sample and CV:     7.288162 0.9374236 0.9566218 0.9539049\n",
      "Seed 1 sample, Seed 2 CV: 7.288162 0.9374236 0.9566218 0.9539049\n",
      "Seed 2 sample and CV:     9.858301 1.00441 1.01803 1.035601"
     ]
    }
   ],
   "source": [
    "# There is nothing random in the CV procedure. results will differ only if a new sample is generated\n",
    "cat('Seed 1 sample and CV:    ', CV)\n",
    "set.seed(2)\n",
    "CV = myCV()\n",
    "cat('\\nSeed 1 sample, Seed 2 CV:', CV)\n",
    "\n",
    "set.seed(2)\n",
    "x = rnorm(100, 0, 1)\n",
    "y = x-2*x^2+rnorm(100, 0, 1)\n",
    "CV = myCV()\n",
    "cat('\\nSeed 2 sample and CV:    ', CV)\n",
    "\n",
    "set.seed(1)\n",
    "x = rnorm(100, 0, 1)\n",
    "y = x-2*x^2+rnorm(100, 0, 1)\n",
    "CV = myCV()"
   ]
  },
  {
   "cell_type": "markdown",
   "metadata": {},
   "source": [
    "#### (e) Which of the models in (c) had the smallest LOOCV error? Is this what you expected? Explain your answer."
   ]
  },
  {
   "cell_type": "code",
   "execution_count": 19,
   "metadata": {},
   "outputs": [
    {
     "data": {
      "text/html": [
       "2"
      ],
      "text/latex": [
       "2"
      ],
      "text/markdown": [
       "2"
      ],
      "text/plain": [
       "[1] 2"
      ]
     },
     "metadata": {},
     "output_type": "display_data"
    },
    {
     "name": "stdout",
     "output_type": "stream",
     "text": [
      "[1] \"Expected is 2, which is the true data generation process.\"\n"
     ]
    }
   ],
   "source": [
    "which(CV==min(CV))\n",
    "print('Expected is 2, which is the true data generation process.')"
   ]
  },
  {
   "cell_type": "markdown",
   "metadata": {},
   "source": [
    "#### (f) Comment on the statistical significance of the coefficient estimates that results from fitting each of the models in (c) using least squares. Do these results agree with the conclusions drawn based on the cross-validation results?"
   ]
  },
  {
   "cell_type": "markdown",
   "metadata": {},
   "source": [
    "*We get $\\beta_1$ and $\\beta_2$ significant, but the values are way off the true generating process. We reject $\\beta_0 = 0$, which is incorrect. LOOCV selects the same model specification as statistical significance of coefficients for this sample. Python results will differ because the random generating process is different.*"
   ]
  },
  {
   "cell_type": "code",
   "execution_count": 20,
   "metadata": {},
   "outputs": [
    {
     "name": "stdout",
     "output_type": "stream",
     "text": [
      "\n",
      "Call:\n",
      "lm(formula = y ~ poly(x, n))\n",
      "\n",
      "Residuals:\n",
      "    Min      1Q  Median      3Q     Max \n",
      "-9.5161 -0.6800  0.6812  1.5491  3.8183 \n",
      "\n",
      "Coefficients:\n",
      "            Estimate Std. Error t value Pr(>|t|)    \n",
      "(Intercept)   -1.550      0.260  -5.961 3.95e-08 ***\n",
      "poly(x, n)     6.189      2.600   2.380   0.0192 *  \n",
      "---\n",
      "Signif. codes:  0 ‘***’ 0.001 ‘**’ 0.01 ‘*’ 0.05 ‘.’ 0.1 ‘ ’ 1\n",
      "\n",
      "Residual standard error: 2.6 on 98 degrees of freedom\n",
      "Multiple R-squared:  0.05465,\tAdjusted R-squared:  0.045 \n",
      "F-statistic: 5.665 on 1 and 98 DF,  p-value: 0.01924\n",
      "\n",
      "\n",
      "Call:\n",
      "lm(formula = y ~ poly(x, n))\n",
      "\n",
      "Residuals:\n",
      "    Min      1Q  Median      3Q     Max \n",
      "-1.9650 -0.6254 -0.1288  0.5803  2.2700 \n",
      "\n",
      "Coefficients:\n",
      "            Estimate Std. Error t value Pr(>|t|)    \n",
      "(Intercept)  -1.5500     0.0958  -16.18  < 2e-16 ***\n",
      "poly(x, n)1   6.1888     0.9580    6.46 4.18e-09 ***\n",
      "poly(x, n)2 -23.9483     0.9580  -25.00  < 2e-16 ***\n",
      "---\n",
      "Signif. codes:  0 ‘***’ 0.001 ‘**’ 0.01 ‘*’ 0.05 ‘.’ 0.1 ‘ ’ 1\n",
      "\n",
      "Residual standard error: 0.958 on 97 degrees of freedom\n",
      "Multiple R-squared:  0.873,\tAdjusted R-squared:  0.8704 \n",
      "F-statistic: 333.3 on 2 and 97 DF,  p-value: < 2.2e-16\n",
      "\n",
      "\n",
      "Call:\n",
      "lm(formula = y ~ poly(x, n))\n",
      "\n",
      "Residuals:\n",
      "    Min      1Q  Median      3Q     Max \n",
      "-1.9765 -0.6302 -0.1227  0.5545  2.2843 \n",
      "\n",
      "Coefficients:\n",
      "             Estimate Std. Error t value Pr(>|t|)    \n",
      "(Intercept)  -1.55002    0.09626 -16.102  < 2e-16 ***\n",
      "poly(x, n)1   6.18883    0.96263   6.429 4.97e-09 ***\n",
      "poly(x, n)2 -23.94830    0.96263 -24.878  < 2e-16 ***\n",
      "poly(x, n)3   0.26411    0.96263   0.274    0.784    \n",
      "---\n",
      "Signif. codes:  0 ‘***’ 0.001 ‘**’ 0.01 ‘*’ 0.05 ‘.’ 0.1 ‘ ’ 1\n",
      "\n",
      "Residual standard error: 0.9626 on 96 degrees of freedom\n",
      "Multiple R-squared:  0.8731,\tAdjusted R-squared:  0.8691 \n",
      "F-statistic: 220.1 on 3 and 96 DF,  p-value: < 2.2e-16\n",
      "\n",
      "\n",
      "Call:\n",
      "lm(formula = y ~ poly(x, n))\n",
      "\n",
      "Residuals:\n",
      "    Min      1Q  Median      3Q     Max \n",
      "-2.0550 -0.6212 -0.1567  0.5952  2.2267 \n",
      "\n",
      "Coefficients:\n",
      "             Estimate Std. Error t value Pr(>|t|)    \n",
      "(Intercept)  -1.55002    0.09591 -16.162  < 2e-16 ***\n",
      "poly(x, n)1   6.18883    0.95905   6.453 4.59e-09 ***\n",
      "poly(x, n)2 -23.94830    0.95905 -24.971  < 2e-16 ***\n",
      "poly(x, n)3   0.26411    0.95905   0.275    0.784    \n",
      "poly(x, n)4   1.25710    0.95905   1.311    0.193    \n",
      "---\n",
      "Signif. codes:  0 ‘***’ 0.001 ‘**’ 0.01 ‘*’ 0.05 ‘.’ 0.1 ‘ ’ 1\n",
      "\n",
      "Residual standard error: 0.9591 on 95 degrees of freedom\n",
      "Multiple R-squared:  0.8753,\tAdjusted R-squared:  0.8701 \n",
      "F-statistic: 166.7 on 4 and 95 DF,  p-value: < 2.2e-16\n",
      "\n"
     ]
    }
   ],
   "source": [
    "for(n in 1:4) print(summary(lm(y~poly(x,n))))"
   ]
  },
  {
   "cell_type": "code",
   "execution_count": 30,
   "metadata": {},
   "outputs": [
    {
     "name": "stdout",
     "output_type": "stream",
     "text": [
      "\n",
      "Call:\n",
      "lm(formula = y ~ poly(x, n) + 0)\n",
      "\n",
      "Residuals:\n",
      "     Min       1Q   Median       3Q      Max \n",
      "-11.0661  -2.2301  -0.8688  -0.0009   2.2683 \n",
      "\n",
      "Coefficients:\n",
      "           Estimate Std. Error t value Pr(>|t|)  \n",
      "poly(x, n)    6.189      3.020   2.049   0.0431 *\n",
      "---\n",
      "Signif. codes:  0 ‘***’ 0.001 ‘**’ 0.01 ‘*’ 0.05 ‘.’ 0.1 ‘ ’ 1\n",
      "\n",
      "Residual standard error: 3.02 on 99 degrees of freedom\n",
      "Multiple R-squared:  0.0407,\tAdjusted R-squared:  0.03101 \n",
      "F-statistic:   4.2 on 1 and 99 DF,  p-value: 0.04307\n",
      "\n",
      "\n",
      "Call:\n",
      "lm(formula = y ~ poly(x, n) + 0)\n",
      "\n",
      "Residuals:\n",
      "    Min      1Q  Median      3Q     Max \n",
      "-3.5151 -2.1754 -1.6788 -0.9697  0.7200 \n",
      "\n",
      "Coefficients:\n",
      "            Estimate Std. Error t value Pr(>|t|)    \n",
      "poly(x, n)1    6.189      1.833   3.376  0.00105 ** \n",
      "poly(x, n)2  -23.948      1.833 -13.065  < 2e-16 ***\n",
      "---\n",
      "Signif. codes:  0 ‘***’ 0.001 ‘**’ 0.01 ‘*’ 0.05 ‘.’ 0.1 ‘ ’ 1\n",
      "\n",
      "Residual standard error: 1.833 on 98 degrees of freedom\n",
      "Multiple R-squared:  0.6501,\tAdjusted R-squared:  0.643 \n",
      "F-statistic: 91.04 on 2 and 98 DF,  p-value: < 2.2e-16\n",
      "\n",
      "\n",
      "Call:\n",
      "lm(formula = y ~ poly(x, n) + 0)\n",
      "\n",
      "Residuals:\n",
      "    Min      1Q  Median      3Q     Max \n",
      "-3.5265 -2.1802 -1.6727 -0.9956  0.7343 \n",
      "\n",
      "Coefficients:\n",
      "            Estimate Std. Error t value Pr(>|t|)    \n",
      "poly(x, n)1   6.1888     1.8423   3.359  0.00112 ** \n",
      "poly(x, n)2 -23.9483     1.8423 -12.999  < 2e-16 ***\n",
      "poly(x, n)3   0.2641     1.8423   0.143  0.88630    \n",
      "---\n",
      "Signif. codes:  0 ‘***’ 0.001 ‘**’ 0.01 ‘*’ 0.05 ‘.’ 0.1 ‘ ’ 1\n",
      "\n",
      "Residual standard error: 1.842 on 97 degrees of freedom\n",
      "Multiple R-squared:  0.6502,\tAdjusted R-squared:  0.6394 \n",
      "F-statistic:  60.1 on 3 and 97 DF,  p-value: < 2.2e-16\n",
      "\n",
      "\n",
      "Call:\n",
      "lm(formula = y ~ poly(x, n) + 0)\n",
      "\n",
      "Residuals:\n",
      "    Min      1Q  Median      3Q     Max \n",
      "-3.6050 -2.1712 -1.7067 -0.9548  0.6767 \n",
      "\n",
      "Coefficients:\n",
      "            Estimate Std. Error t value Pr(>|t|)    \n",
      "poly(x, n)1   6.1888     1.8474   3.350  0.00116 ** \n",
      "poly(x, n)2 -23.9483     1.8474 -12.963  < 2e-16 ***\n",
      "poly(x, n)3   0.2641     1.8474   0.143  0.88662    \n",
      "poly(x, n)4   1.2571     1.8474   0.680  0.49785    \n",
      "---\n",
      "Signif. codes:  0 ‘***’ 0.001 ‘**’ 0.01 ‘*’ 0.05 ‘.’ 0.1 ‘ ’ 1\n",
      "\n",
      "Residual standard error: 1.847 on 96 degrees of freedom\n",
      "Multiple R-squared:  0.6519,\tAdjusted R-squared:  0.6374 \n",
      "F-statistic: 44.94 on 4 and 96 DF,  p-value: < 2.2e-16\n",
      "\n"
     ]
    }
   ],
   "source": [
    "for(n in 1:4) print(summary(lm(y~poly(x,n)+0)))"
   ]
  },
  {
   "cell_type": "markdown",
   "metadata": {},
   "source": [
    "### 9. We will now consider the Boston housing data set, from the `MASS` library.\n",
    "\n",
    "#### (a) Based on this data set, provide an estimate for the population mean of `medv` . Call this estimate $\\hat\\mu$."
   ]
  },
  {
   "cell_type": "code",
   "execution_count": 21,
   "metadata": {},
   "outputs": [
    {
     "name": "stderr",
     "output_type": "stream",
     "text": [
      "Loading required package: MASS\n"
     ]
    },
    {
     "data": {
      "text/html": [
       "22.5328063241107"
      ],
      "text/latex": [
       "22.5328063241107"
      ],
      "text/markdown": [
       "22.5328063241107"
      ],
      "text/plain": [
       "[1] 22.53281"
      ]
     },
     "metadata": {},
     "output_type": "display_data"
    }
   ],
   "source": [
    "require(MASS)\n",
    "(hatmu = mean(Boston$medv))"
   ]
  },
  {
   "cell_type": "markdown",
   "metadata": {},
   "source": [
    "#### (b) Provide an estimate of the standard error of $\\hat\\mu$. Interpret this result. Hint: We can compute the standard error of the sample mean by dividing the sample standard deviation by the square root of the number of observations."
   ]
  },
  {
   "cell_type": "code",
   "execution_count": 22,
   "metadata": {},
   "outputs": [
    {
     "data": {
      "text/html": [
       "0.408861147497535"
      ],
      "text/latex": [
       "0.408861147497535"
      ],
      "text/markdown": [
       "0.408861147497535"
      ],
      "text/plain": [
       "[1] 0.4088611"
      ]
     },
     "metadata": {},
     "output_type": "display_data"
    }
   ],
   "source": [
    "(hatmu_se = sd(Boston$medv)/sqrt(nrow(Boston)))"
   ]
  },
  {
   "cell_type": "markdown",
   "metadata": {},
   "source": [
    "#### (c) Now estimate the standard error of $\\hat\\mu$ using the bootstrap. How does this compare to your answer from (b)?"
   ]
  },
  {
   "cell_type": "code",
   "execution_count": 23,
   "metadata": {},
   "outputs": [
    {
     "data": {
      "text/plain": [
       "\n",
       "ORDINARY NONPARAMETRIC BOOTSTRAP\n",
       "\n",
       "\n",
       "Call:\n",
       "boot(data = Boston, statistic = bootf, R = 1000)\n",
       "\n",
       "\n",
       "Bootstrap Statistics :\n",
       "    original      bias    std. error\n",
       "t1* 22.53281 0.008186957   0.4100113"
      ]
     },
     "metadata": {},
     "output_type": "display_data"
    }
   ],
   "source": [
    "require(boot)\n",
    "bootf = function(data,index) mean(data[index,'medv'])\n",
    "(bs = boot(Boston, bootf, 1000))"
   ]
  },
  {
   "cell_type": "markdown",
   "metadata": {},
   "source": [
    "#### (d) Based on your bootstrap estimate from (c), provide a 95 % confidence interval for the mean of `medv`. Compare it to the results obtained using `t.test(Boston$medv)`. Hint: You can approximate a 95% confidence interval using the formula $\\left[\\hat\\mu − 2SE(\\hat\\mu), \\hat\\mu + 2SE(\\hat\\mu)\\right]$."
   ]
  },
  {
   "cell_type": "code",
   "execution_count": 24,
   "metadata": {},
   "outputs": [
    {
     "data": {
      "text/plain": [
       "\n",
       "\tOne Sample t-test\n",
       "\n",
       "data:  Boston$medv\n",
       "t = 55.111, df = 505, p-value < 2.2e-16\n",
       "alternative hypothesis: true mean is not equal to 0\n",
       "95 percent confidence interval:\n",
       " 21.72953 23.33608\n",
       "sample estimates:\n",
       "mean of x \n",
       " 22.53281 \n"
      ]
     },
     "metadata": {},
     "output_type": "display_data"
    }
   ],
   "source": [
    "t.test(Boston$medv)"
   ]
  },
  {
   "cell_type": "code",
   "execution_count": 25,
   "metadata": {},
   "outputs": [
    {
     "data": {
      "text/html": [
       "<ol class=list-inline>\n",
       "\t<li>22.1309819448412</li>\n",
       "\t<li>22.9510046164236</li>\n",
       "</ol>\n"
      ],
      "text/latex": [
       "\\begin{enumerate*}\n",
       "\\item 22.1309819448412\n",
       "\\item 22.9510046164236\n",
       "\\end{enumerate*}\n"
      ],
      "text/markdown": [
       "1. 22.1309819448412\n",
       "2. 22.9510046164236\n",
       "\n",
       "\n"
      ],
      "text/plain": [
       "[1] 22.13098 22.95100"
      ]
     },
     "metadata": {},
     "output_type": "display_data"
    }
   ],
   "source": [
    "mean(bs$t)+sd(bs$t)*c(-1,1)"
   ]
  },
  {
   "cell_type": "markdown",
   "metadata": {},
   "source": [
    "#### (e) Based on this data set, provide an estimate, $\\hat\\mu_{med}$, for the median value of `medv` in the population."
   ]
  },
  {
   "cell_type": "code",
   "execution_count": 26,
   "metadata": {},
   "outputs": [
    {
     "data": {
      "text/html": [
       "21.2"
      ],
      "text/latex": [
       "21.2"
      ],
      "text/markdown": [
       "21.2"
      ],
      "text/plain": [
       "[1] 21.2"
      ]
     },
     "metadata": {},
     "output_type": "display_data"
    }
   ],
   "source": [
    "(hatmedian = median(Boston$medv))"
   ]
  },
  {
   "cell_type": "markdown",
   "metadata": {},
   "source": [
    "#### (f) We now would like to estimate the standard error of $\\hat\\mu_{med}$. Unfortunately, there is no simple formula for computing the standard error of the median. Instead, estimate the standard error of the median using the bootstrap. Comment on your findings.  "
   ]
  },
  {
   "cell_type": "code",
   "execution_count": 27,
   "metadata": {},
   "outputs": [
    {
     "data": {
      "text/plain": [
       "\n",
       "ORDINARY NONPARAMETRIC BOOTSTRAP\n",
       "\n",
       "\n",
       "Call:\n",
       "boot(data = Boston, statistic = bootf, R = 1000)\n",
       "\n",
       "\n",
       "Bootstrap Statistics :\n",
       "    original  bias    std. error\n",
       "t1*     21.2 -0.0392    0.377579"
      ]
     },
     "metadata": {},
     "output_type": "display_data"
    }
   ],
   "source": [
    "bootf = function(data,index) median(data[index,'medv'])\n",
    "(bs = boot(Boston, bootf, 1000))"
   ]
  },
  {
   "cell_type": "markdown",
   "metadata": {},
   "source": [
    "#### (g) Based on this data set, provide an estimate for the tenth percentile of `medv` in Boston suburbs. Call this quantity $\\hat\\mu_{0.1}$ . (You can use the `quantile()` function.)"
   ]
  },
  {
   "cell_type": "code",
   "execution_count": 28,
   "metadata": {},
   "outputs": [
    {
     "data": {
      "text/html": [
       "<strong>10%:</strong> 12.75"
      ],
      "text/latex": [
       "\\textbf{10\\textbackslash{}\\%:} 12.75"
      ],
      "text/markdown": [
       "**10%:** 12.75"
      ],
      "text/plain": [
       "  10% \n",
       "12.75 "
      ]
     },
     "metadata": {},
     "output_type": "display_data"
    }
   ],
   "source": [
    "quantile(Boston$medv, 0.1)"
   ]
  },
  {
   "cell_type": "markdown",
   "metadata": {},
   "source": [
    "#### (h) Use the bootstrap to estimate the standard error of $\\hat\\mu_{0.1}$. Comment on your findings."
   ]
  },
  {
   "cell_type": "code",
   "execution_count": 29,
   "metadata": {},
   "outputs": [
    {
     "data": {
      "text/plain": [
       "\n",
       "ORDINARY NONPARAMETRIC BOOTSTRAP\n",
       "\n",
       "\n",
       "Call:\n",
       "boot(data = Boston, statistic = bootf, R = 1000)\n",
       "\n",
       "\n",
       "Bootstrap Statistics :\n",
       "    original  bias    std. error\n",
       "t1*    12.75  0.0193   0.4921328"
      ]
     },
     "metadata": {},
     "output_type": "display_data"
    }
   ],
   "source": [
    "bootf = function(data,index) quantile(data[index,'medv'],0.10)\n",
    "(bs = boot(Boston, bootf, 1000))"
   ]
  }
 ],
 "metadata": {
  "kernelspec": {
   "display_name": "R",
   "language": "R",
   "name": "ir"
  },
  "language_info": {
   "codemirror_mode": "r",
   "file_extension": ".r",
   "mimetype": "text/x-r-source",
   "name": "R",
   "pygments_lexer": "r",
   "version": "3.6.1"
  }
 },
 "nbformat": 4,
 "nbformat_minor": 2
}
